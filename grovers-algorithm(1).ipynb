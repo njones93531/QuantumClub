{
 "cells": [
  {
   "attachments": {},
   "cell_type": "markdown",
   "id": "e57d1e6b",
   "metadata": {},
   "source": [
    "## Background\n",
    "\n",
    "*Usage estimate: 4 seconds  on ibm\\_nairobi. (NOTE: This is an estimate only. Your runtime may vary.)*\n",
    "\n",
    "Amplitude amplification is a general purpose quantum algorithm, or subroutine, that can be used to obtain a quadratic speedup over a handful of classical algorithms. [Grover’s algorithm](https://arxiv.org/abs/quant-ph/9605043) was the first to demonstrate this speedup on unstructured search problems. Formulating a Grover's search problem requires an oracle function that marks one or more computational basis states as the states we are interested in finding, and an amplification circuit that increases the amplitude of marked states, consequently suppressing the remaining states.\n",
    "\n",
    "Here, we demonstrate how to construct Grover oracles and use the `GroverOperator` from the Qiskit circuit library to easily set up a Grover's search instance. The runtime `Sampler` primitive allows seamless execution of Grover circuits.\n"
   ]
  },
  {
   "cell_type": "markdown",
   "id": "152c479f",
   "metadata": {},
   "source": [
    "## Requirements\n",
    "\n",
    "Before starting this tutorial, ensure that you have the following installed:\n",
    "\n",
    "* Qiskit SDK 1.0 or later, with visualization support (`pip install 'qiskit[visualization]'`)\n",
    "* Qiskit Runtime (`pip install qiskit-ibm-runtime`) 0.22 or later\n"
   ]
  },
  {
   "attachments": {},
   "cell_type": "markdown",
   "id": "54602708",
   "metadata": {},
   "source": [
    "## Setup\n",
    "\n",
    "Here we import the small number of tools we need for this tutorial.\n"
   ]
  },
  {
   "cell_type": "code",
   "execution_count": 1,
   "id": "e2cb0472",
   "metadata": {},
   "outputs": [],
   "source": [
    "# Built-in modules\n",
    "import math\n",
    "\n",
    "# Imports from Qiskit\n",
    "from qiskit import QuantumCircuit\n",
    "from qiskit.circuit.library import GroverOperator, MCMT, ZGate\n",
    "from qiskit.visualization import plot_distribution\n",
    "\n",
    "# Imports from Qiskit Runtime\n",
    "from qiskit_ibm_runtime import QiskitRuntimeService\n",
    "from qiskit_ibm_runtime import SamplerV2 as Sampler"
   ]
  },
  {
   "cell_type": "code",
   "execution_count": 9,
   "id": "8668ab00",
   "metadata": {},
   "outputs": [
    {
     "data": {
      "text/plain": [
       "'ibm_brisbane'"
      ]
     },
     "execution_count": 9,
     "metadata": {},
     "output_type": "execute_result"
    }
   ],
   "source": [
    "# To run on hardware, select the backend with the fewest number of jobs in the queue\n",
    "from qiskit_ibm_provider import IBMProvider\n",
    "IBMProvider.save_account('0043daf442f169db1c04e80f74420d7b301ad4bfc1acea70635ace2f2a6d44521f6af4e49d8c79c07c11bcacec752dd05cecd66c0daab81fb228c40661e89265', overwrite=True)\n",
    "provider = IBMProvider()\n",
    "backend = provider.get_backend(\"ibm_brisbane\")\n",
    "backend.name"
   ]
  },
  {
   "attachments": {},
   "cell_type": "markdown",
   "id": "d4845f4d",
   "metadata": {},
   "source": [
    "## Step 1: Map classical inputs to a quantum problem\n",
    "\n",
    "Grover's algorithm requires an [oracle](https://learning.quantum-computing.ibm.com/course/fundamentals-of-quantum-algorithms/grovers-algorithm) that specifies one or more marked computational basis states, where \"marked\" means a state with a phase of -1.  A controlled-Z gate, or its multi-controlled generalization over $N$ qubits, marks the $2^{N}-1$ state (`'1'`\\*$N$ bit-string).  Marking basis states with one or more `'0'` in the binary representation requires applying X-gates on the corresponding qubits before and after the controlled-Z gate; equivalent to having an open-control on that qubit.  In the following code, we define an oracle that does just that, marking one or more input basis states defined through their bit-string representation.  The `MCMT` gate is used to implement the multi-controlled Z-gate.\n"
   ]
  },
  {
   "cell_type": "code",
   "execution_count": 10,
   "id": "7d27e3b4",
   "metadata": {},
   "outputs": [],
   "source": [
    "def grover_oracle(marked_states):\n",
    "    \"\"\"Build a Grover oracle for multiple marked states\n",
    "\n",
    "    Here we assume all input marked states have the same number of bits\n",
    "\n",
    "    Parameters:\n",
    "        marked_states (str or list): Marked states of oracle\n",
    "\n",
    "    Returns:\n",
    "        QuantumCircuit: Quantum circuit representing Grover oracle\n",
    "    \"\"\"\n",
    "    if not isinstance(marked_states, list):\n",
    "        marked_states = [marked_states]\n",
    "    # Compute the number of qubits in circuit\n",
    "    num_qubits = len(marked_states[0])\n",
    "\n",
    "    qc = QuantumCircuit(num_qubits)\n",
    "    # Mark each target state in the input list\n",
    "    for target in marked_states:\n",
    "        # Flip target bit-string to match Qiskit bit-ordering\n",
    "        rev_target = target[::-1]\n",
    "        # Find the indices of all the '0' elements in bit-string\n",
    "        zero_inds = [ind for ind in range(num_qubits) if rev_target.startswith(\"0\", ind)]\n",
    "        # Add a multi-controlled Z-gate with pre- and post-applied X-gates (open-controls)\n",
    "        # where the target bit-string has a '0' entry\n",
    "        qc.x(zero_inds)\n",
    "        qc.compose(MCMT(ZGate(), num_qubits - 1, 1), inplace=True)\n",
    "        qc.x(zero_inds)\n",
    "    return qc"
   ]
  },
  {
   "attachments": {},
   "cell_type": "markdown",
   "id": "bca14740",
   "metadata": {},
   "source": [
    "### Specific Grover's instance\n",
    "\n",
    "Now that we have the oracle function, we can define a specific instance of Grover search.  In this example we will mark two computational states out of the eight available in a three-qubit computational space:\n"
   ]
  },
  {
   "cell_type": "code",
   "execution_count": 11,
   "id": "c150298f",
   "metadata": {},
   "outputs": [
    {
     "data": {
      "text/html": [
       "<pre style=\"word-wrap: normal;white-space: pre;background: #fff0;line-height: 1.1;font-family: &quot;Courier New&quot;,Courier,monospace\">             ┌───┐   ┌───┐\n",
       "q_0: ──────■─┤ X ├─■─┤ X ├\n",
       "           │ ├───┤ │ ├───┤\n",
       "q_1: ──────■─┤ X ├─■─┤ X ├\n",
       "     ┌───┐ │ ├───┤ │ └───┘\n",
       "q_2: ┤ X ├─■─┤ X ├─■──────\n",
       "     └───┘   └───┘        </pre>"
      ],
      "text/plain": [
       "             ┌───┐   ┌───┐\n",
       "q_0: ──────■─┤ X ├─■─┤ X ├\n",
       "           │ ├───┤ │ ├───┤\n",
       "q_1: ──────■─┤ X ├─■─┤ X ├\n",
       "     ┌───┐ │ ├───┤ │ └───┘\n",
       "q_2: ┤ X ├─■─┤ X ├─■──────\n",
       "     └───┘   └───┘        "
      ]
     },
     "execution_count": 11,
     "metadata": {},
     "output_type": "execute_result"
    }
   ],
   "source": [
    "marked_states = [\"011\", \"100\"]\n",
    "\n",
    "oracle = grover_oracle(marked_states)\n",
    "oracle.draw()"
   ]
  },
  {
   "attachments": {},
   "cell_type": "markdown",
   "id": "25487b93",
   "metadata": {},
   "source": [
    "### GroverOperator\n",
    "\n",
    "The built-in Qiskit `GroverOperator` takes an oracle circuit and returns a circuit that is composed of the oracle circuit itself and a circuit that amplifies the states marked by the oracle.  Here, we `decompose` the circuit to see the gates within the operator:\n"
   ]
  },
  {
   "cell_type": "code",
   "execution_count": 12,
   "id": "283d5265",
   "metadata": {},
   "outputs": [
    {
     "data": {
      "text/html": [
       "<pre style=\"word-wrap: normal;white-space: pre;background: #fff0;line-height: 1.1;font-family: &quot;Courier New&quot;,Courier,monospace\">global phase: π\n",
       "                 ┌───┐   ┌───┐┌───┐┌───┐     ┌───┐┌───┐     \n",
       "state_0: ──────■─┤ X ├─■─┤ X ├┤ H ├┤ X ├──■──┤ X ├┤ H ├─────\n",
       "               │ ├───┤ │ ├───┤├───┤├───┤  │  ├───┤├───┤     \n",
       "state_1: ──────■─┤ X ├─■─┤ X ├┤ H ├┤ X ├──■──┤ X ├┤ H ├─────\n",
       "         ┌───┐ │ ├───┤ │ ├───┤├───┤├───┤┌─┴─┐├───┤├───┤┌───┐\n",
       "state_2: ┤ X ├─■─┤ X ├─■─┤ H ├┤ X ├┤ H ├┤ X ├┤ H ├┤ X ├┤ H ├\n",
       "         └───┘   └───┘   └───┘└───┘└───┘└───┘└───┘└───┘└───┘</pre>"
      ],
      "text/plain": [
       "global phase: π\n",
       "                 ┌───┐   ┌───┐┌───┐┌───┐     ┌───┐┌───┐     \n",
       "state_0: ──────■─┤ X ├─■─┤ X ├┤ H ├┤ X ├──■──┤ X ├┤ H ├─────\n",
       "               │ ├───┤ │ ├───┤├───┤├───┤  │  ├───┤├───┤     \n",
       "state_1: ──────■─┤ X ├─■─┤ X ├┤ H ├┤ X ├──■──┤ X ├┤ H ├─────\n",
       "         ┌───┐ │ ├───┤ │ ├───┤├───┤├───┤┌─┴─┐├───┤├───┤┌───┐\n",
       "state_2: ┤ X ├─■─┤ X ├─■─┤ H ├┤ X ├┤ H ├┤ X ├┤ H ├┤ X ├┤ H ├\n",
       "         └───┘   └───┘   └───┘└───┘└───┘└───┘└───┘└───┘└───┘"
      ]
     },
     "execution_count": 12,
     "metadata": {},
     "output_type": "execute_result"
    }
   ],
   "source": [
    "grover_op = GroverOperator(oracle)\n",
    "grover_op.decompose().draw()"
   ]
  },
  {
   "attachments": {},
   "cell_type": "markdown",
   "id": "83c34dc9",
   "metadata": {},
   "source": [
    "Repeated applications of this `grover_op` circuit amplify the marked states, making them the most probable bit-strings in the output distribution from the circuit.  There is an optimal number of such applications that is determined by the ratio of marked states to total number of possible computational states:\n"
   ]
  },
  {
   "cell_type": "code",
   "execution_count": 13,
   "id": "f4c3d4b5",
   "metadata": {},
   "outputs": [],
   "source": [
    "optimal_num_iterations = math.floor(\n",
    "    math.pi / (4 * math.asin(math.sqrt(len(marked_states) / 2**grover_op.num_qubits)))\n",
    ")"
   ]
  },
  {
   "attachments": {},
   "cell_type": "markdown",
   "id": "e06c8238",
   "metadata": {},
   "source": [
    "### Full Grover circuit\n",
    "\n",
    "A complete Grover experiment starts with a Hadamard gate on each qubit; creating an even superposition of all computational basis states, followed the Grover operator (`grover_op`) repeated the optimal number of times.  Here we make use of the `QuantumCircuit.power(INT)` method to repeatedly apply the Grover operator.\n"
   ]
  },
  {
   "cell_type": "code",
   "execution_count": 14,
   "id": "4933ae44",
   "metadata": {},
   "outputs": [
    {
     "data": {
      "text/html": [
       "<pre style=\"word-wrap: normal;white-space: pre;background: #fff0;line-height: 1.1;font-family: &quot;Courier New&quot;,Courier,monospace\">        ┌───┐┌────┐ ░ ┌─┐      \n",
       "   q_0: ┤ H ├┤0   ├─░─┤M├──────\n",
       "        ├───┤│    │ ░ └╥┘┌─┐   \n",
       "   q_1: ┤ H ├┤1 Q ├─░──╫─┤M├───\n",
       "        ├───┤│    │ ░  ║ └╥┘┌─┐\n",
       "   q_2: ┤ H ├┤2   ├─░──╫──╫─┤M├\n",
       "        └───┘└────┘ ░  ║  ║ └╥┘\n",
       "meas: 3/═══════════════╩══╩══╩═\n",
       "                       0  1  2 </pre>"
      ],
      "text/plain": [
       "        ┌───┐┌────┐ ░ ┌─┐      \n",
       "   q_0: ┤ H ├┤0   ├─░─┤M├──────\n",
       "        ├───┤│    │ ░ └╥┘┌─┐   \n",
       "   q_1: ┤ H ├┤1 Q ├─░──╫─┤M├───\n",
       "        ├───┤│    │ ░  ║ └╥┘┌─┐\n",
       "   q_2: ┤ H ├┤2   ├─░──╫──╫─┤M├\n",
       "        └───┘└────┘ ░  ║  ║ └╥┘\n",
       "meas: 3/═══════════════╩══╩══╩═\n",
       "                       0  1  2 "
      ]
     },
     "execution_count": 14,
     "metadata": {},
     "output_type": "execute_result"
    }
   ],
   "source": [
    "qc = QuantumCircuit(grover_op.num_qubits)\n",
    "# Create even superposition of all basis states\n",
    "qc.h(range(grover_op.num_qubits))\n",
    "# Apply Grover operator the optimal number of times\n",
    "qc.compose(grover_op.power(optimal_num_iterations), inplace=True)\n",
    "# Measure all qubits\n",
    "qc.measure_all()\n",
    "qc.draw()"
   ]
  },
  {
   "cell_type": "markdown",
   "id": "97eb3019",
   "metadata": {},
   "source": [
    "## Step 2: Optimize problem for quantum execution\n"
   ]
  },
  {
   "cell_type": "code",
   "execution_count": 15,
   "id": "c9a3020e",
   "metadata": {},
   "outputs": [],
   "source": [
    "from qiskit.transpiler.preset_passmanagers import generate_preset_pass_manager\n",
    "\n",
    "target = backend.target\n",
    "pm = generate_preset_pass_manager(target=target, optimization_level=3)\n",
    "\n",
    "circuit_isa = pm.run(qc)\n",
    "#circuit_isa.draw()"
   ]
  },
  {
   "attachments": {},
   "cell_type": "markdown",
   "id": "c5edec73",
   "metadata": {},
   "source": [
    "## Step 3: Execute using Qiskit Primitives\n",
    "\n",
    "Amplitude amplification is a sampling problem that is suitable for execution with the [`Sampler`](https://docs.quantum-computing.ibm.com/api/qiskit-ibm-runtime/qiskit_ibm_runtime.SamplerV2) runtime primitive.\n",
    "\n",
    "Note that the `run()` method of [Qiskit Runtime `SamplerV2`](https://docs.quantum.ibm.com/api/qiskit-ibm-runtime/qiskit_ibm_runtime.SamplerV2)  takes an iterable of `primitive unified blocs (PUBs)`. For sampler, each PUB is an iterable in the format `(circuit, parameter_values)`. However, at a minimum, it takes a list of quantum circuit(s).\n"
   ]
  },
  {
   "cell_type": "code",
   "execution_count": 17,
   "id": "0eb154d4",
   "metadata": {},
   "outputs": [],
   "source": [
    "# To run on local simulator:\n",
    "#   1. Use the SatetvectorSampler from qiskit.primitives instead\n",
    "backend.run([circuit_isa]).result()\n",
    "dist = result[0].data.meas.get_counts()"
   ]
  },
  {
   "cell_type": "markdown",
   "id": "87484abf",
   "metadata": {},
   "source": [
    "## Step 4: Post-process, return result in classical format\n"
   ]
  },
  {
   "cell_type": "code",
   "execution_count": 18,
   "id": "a5ef9913",
   "metadata": {},
   "outputs": [
    {
     "data": {
      "image/png": "[encoded data removed]",
      "text/plain": [
       "<Figure size 700x500 with 1 Axes>"
      ]
     },
     "execution_count": 18,
     "metadata": {},
     "output_type": "execute_result"
    }
   ],
   "source": [
    "plot_distribution(dist)"
   ]
  },
  {
   "cell_type": "code",
   "execution_count": 11,
   "id": "0e4223d0",
   "metadata": {},
   "outputs": [
    {
     "data": {
      "text/plain": [
       "'0.23.0'"
      ]
     },
     "execution_count": 11,
     "metadata": {},
     "output_type": "execute_result"
    }
   ],
   "source": [
    "import qiskit_ibm_runtime\n",
    "\n",
    "qiskit_ibm_runtime.version.get_version_info()"
   ]
  },
  {
   "cell_type": "code",
   "execution_count": 22,
   "id": "5e6db65c",
   "metadata": {},
   "outputs": [
    {
     "data": {
      "text/plain": [
       "'0.23.3'"
      ]
     },
     "execution_count": 22,
     "metadata": {},
     "output_type": "execute_result"
    }
   ],
   "source": [
    "import qiskit\n",
    "\n",
    "qiskit.version.get_version_info()"
   ]
  },
  {
   "cell_type": "code",
   "execution_count": null,
   "id": "6c773f9e-dae9-4405-a6f0-62c2dd45f884",
   "metadata": {},
   "outputs": [],
   "source": []
  }
 ],
 "metadata": {
  "kernelspec": {
   "display_name": "Python 3 [Qiskit 1.2.0]",
   "language": "python",
   "name": "python3_qiskit_9vrlwn"
  },
  "language_info": {
   "codemirror_mode": {
    "name": "ipython",
    "version": 3
   },
   "file_extension": ".py",
   "mimetype": "text/x-python",
   "name": "python",
   "nbconvert_exporter": "python",
   "pygments_lexer": "ipython3",
   "version": "3.11.9"
  }
 },
 "nbformat": 4,
 "nbformat_minor": 5
}
